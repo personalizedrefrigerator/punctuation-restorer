{
 "cells": [
  {
   "cell_type": "markdown",
   "metadata": {},
   "source": [
    "# V2: SEQ2SEQ\n",
    "\n",
    "This notebook roughly follows the [\"Nural Machine Translation With Attention\"](https://www.tensorflow.org/text/tutorials/nmt_with_attention) tutorial. However, like the v1 notebook, it solves a different problem."
   ]
  },
  {
   "cell_type": "code",
   "execution_count": 1,
   "metadata": {},
   "outputs": [
    {
     "name": "stderr",
     "output_type": "stream",
     "text": [
      "2024-08-31 22:15:46.893308: I external/local_xla/xla/tsl/cuda/cudart_stub.cc:32] Could not find cuda drivers on your machine, GPU will not be used.\n",
      "2024-08-31 22:15:46.896795: I external/local_xla/xla/tsl/cuda/cudart_stub.cc:32] Could not find cuda drivers on your machine, GPU will not be used.\n",
      "2024-08-31 22:15:46.906935: E external/local_xla/xla/stream_executor/cuda/cuda_fft.cc:485] Unable to register cuFFT factory: Attempting to register factory for plugin cuFFT when one has already been registered\n",
      "2024-08-31 22:15:46.922615: E external/local_xla/xla/stream_executor/cuda/cuda_dnn.cc:8454] Unable to register cuDNN factory: Attempting to register factory for plugin cuDNN when one has already been registered\n",
      "2024-08-31 22:15:46.926957: E external/local_xla/xla/stream_executor/cuda/cuda_blas.cc:1452] Unable to register cuBLAS factory: Attempting to register factory for plugin cuBLAS when one has already been registered\n",
      "2024-08-31 22:15:46.938697: I tensorflow/core/platform/cpu_feature_guard.cc:210] This TensorFlow binary is optimized to use available CPU instructions in performance-critical operations.\n",
      "To enable the following instructions: AVX2, in other operations, rebuild TensorFlow with the appropriate compiler flags.\n",
      "2024-08-31 22:15:47.690106: W tensorflow/compiler/tf2tensorrt/utils/py_utils.cc:38] TF-TRT Warning: Could not find TensorRT\n"
     ]
    }
   ],
   "source": [
    "import numpy as np\n",
    "\n",
    "import typing\n",
    "import einops\n",
    "import matplotlib.pyplot as plt\n",
    "\n",
    "import tensorflow as tf"
   ]
  },
  {
   "cell_type": "markdown",
   "metadata": {},
   "source": [
    "## Data setup and preprocessing\n",
    "\n",
    "Our goal is to repunctuate a stream of text. Our input data (context) will be unpunctuated text. Our output data (target) will be the text with punctuation"
   ]
  },
  {
   "cell_type": "code",
   "execution_count": 2,
   "metadata": {},
   "outputs": [
    {
     "data": {
      "text/plain": [
       "array([' ', 'f', 'r', 'i', 'e', 'n', 'd', 's', ' ', 'p', 'r', 'i', 'n',\n",
       "       'c', 'i', 'p', 'a', 'l', 'l', 'y', ' ', 'i', 'n', ' ', 'v', 'i',\n",
       "       'e', 'w', ' ', 't', 'h', 'e', 'y', ' ', 'h', 'a', 'v', 'e', ' ',\n",
       "       'b', 'e', 'e', 'n', ' ', 'a', 'n', ' ', 'e', 's', 's', 'e', 'n',\n",
       "       't', 'i', 'a', 'l', ' ', 'i', 'n', 'g', 'r', 'e', 'd', 'i', 'e',\n",
       "       'n', 't', ' ', 'o', 'f', ' ', 'c', 'h', 'i', 'l', 'd', 'r', 'e',\n",
       "       'n', 's', ' ', 'r', 'e', 'a', 'd', 'i', 'n', 'g', ' ', 'e', 'v',\n",
       "       'e', 'r', ' ', 's', 'i', 'n', 'c', 'e', ' '], dtype='<U1')"
      ]
     },
     "execution_count": 2,
     "metadata": {},
     "output_type": "execute_result"
    }
   ],
   "source": [
    "from prepare_data import load_data\n",
    "\n",
    "context_raw, target_raw = load_data('./data/en/', 2)\n",
    "context_raw[-100:]"
   ]
  },
  {
   "cell_type": "code",
   "execution_count": 4,
   "metadata": {},
   "outputs": [
    {
     "data": {
      "text/plain": [
       "array(['e', 'n', 'd', 's', ' ', 'p', 'r', 'i', 'n', 'c', 'i', 'p', 'a',\n",
       "       'l', 'l', 'y', ' ', 'i', 'n', ' ', 'v', 'i', 'e', 'w', '.', \"'\",\n",
       "       ' ', 'T', 'h', 'e', 'y', ' ', 'h', 'a', 'v', 'e', ' ', 'b', 'e',\n",
       "       'e', 'n', ' ', 'a', 'n', ' ', 'e', 's', 's', 'e', 'n', 't', 'i',\n",
       "       'a', 'l', ' ', 'i', 'n', 'g', 'r', 'e', 'd', 'i', 'e', 'n', 't',\n",
       "       ' ', 'o', 'f', ' ', 'c', 'h', 'i', 'l', 'd', 'r', 'e', 'n', \"'\",\n",
       "       's', ' ', 'r', 'e', 'a', 'd', 'i', 'n', 'g', ' ', 'e', 'v', 'e',\n",
       "       'r', ' ', 's', 'i', 'n', 'c', 'e', '.', ' '], dtype='<U1')"
      ]
     },
     "execution_count": 4,
     "metadata": {},
     "output_type": "execute_result"
    }
   ],
   "source": [
    "target_raw[-100:]"
   ]
  },
  {
   "cell_type": "markdown",
   "metadata": {},
   "source": [
    "## The Encoder\n",
    "\n",
    "As explained in [the tutorial](https://www.tensorflow.org/text/tutorials/nmt_with_attention#the_attention_layer), the encoder's job is to build a new hidden sequence from the provided list of tokens."
   ]
  },
  {
   "cell_type": "code",
   "execution_count": null,
   "metadata": {},
   "outputs": [],
   "source": [
    "class Encoder(tf.keras.layers.Layer):\n",
    "\tdef __init__(self, text_processor, units)"
   ]
  },
  {
   "cell_type": "markdown",
   "metadata": {},
   "source": []
  },
  {
   "cell_type": "markdown",
   "metadata": {},
   "source": []
  }
 ],
 "metadata": {
  "kernelspec": {
   "display_name": "env",
   "language": "python",
   "name": "python3"
  },
  "language_info": {
   "codemirror_mode": {
    "name": "ipython",
    "version": 3
   },
   "file_extension": ".py",
   "mimetype": "text/x-python",
   "name": "python",
   "nbconvert_exporter": "python",
   "pygments_lexer": "ipython3",
   "version": "3.11.9"
  }
 },
 "nbformat": 4,
 "nbformat_minor": 2
}
